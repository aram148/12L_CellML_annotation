{
 "cells": [
  {
   "cell_type": "code",
   "execution_count": 1,
   "id": "633212ff",
   "metadata": {},
   "outputs": [],
   "source": [
    "# Extract and clean the data required for annotation\n",
    "# It is important that the user cleans the data appropiately.\n",
    "# Here I have dropped the 'Process', 'Function' columns as well as \n",
    "# rows 3 and 6(later). Rowns 3 and 6 refer to exchangers which I haven't\n",
    "# figured out how to annotate.\n",
    "\n",
    "import pandas as pd\n",
    "\n",
    "df = pd.read_csv(\"C:Detailed 12L Ion channel list - Annot_test.csv\", skip_blank_lines=True)\n",
    "df = df.drop(['Process'], axis=1)\n",
    "df = df.drop(['Function'], axis=1)\n",
    "\n",
    "source = df['Source']\n",
    "source_is_part = df['Source_ispart']\n",
    "sink = df['Sink']\n",
    "sink_is_part = df['Sink_ispart']\n",
    "med = df['Mediator']\n",
    "\n",
    "source = source.dropna()\n",
    "source = source.drop(index=3)\n",
    "\n",
    "source_is_part = source_is_part.dropna()\n",
    "source_is_part = source_is_part.drop(index=3)\n",
    "\n",
    "sink = sink.dropna()\n",
    "sink = sink.drop(index=3)\n",
    "\n",
    "sink_is_part = sink_is_part.dropna()\n",
    "sink_is_part = sink_is_part.drop(index = 3)\n",
    "\n",
    "med = med.dropna()\n",
    "med = med.drop(index = 3)\n",
    "\n",
    "model_name = df['Main model elements']\n",
    "\n",
    "model_name = model_name.dropna()\n",
    "model_name = model_name.drop(index = 3)\n",
    "model_name = model_name.replace(\" \",\"\")"
   ]
  },
  {
   "cell_type": "code",
   "execution_count": null,
   "id": "d96b5b51",
   "metadata": {},
   "outputs": [],
   "source": [
    "## Fetch the cellml models from PMR\n",
    "## I'm fairly certain there is a better way to do this\n",
    "\n",
    "# import wget\n",
    "# for model in model_name:\n",
    "#     url = 'https://models.physiomeproject.org/workspace/692/rawfile/b98a10f69ee76a70243efdb648c598db5a866a2c/Components/'+model+'.cellml'\n",
    "#     url1 = url.replace(\" \", \"\")\n",
    "#     wget.download(url1)\n",
    "#     print(\"model \",model, \"downloaded\")"
   ]
  },
  {
   "cell_type": "code",
   "execution_count": 4,
   "id": "444488bd",
   "metadata": {},
   "outputs": [],
   "source": [
    "# Need to convert the df's to arrays to avoid missing index arising from\n",
    "# dropping rows and columns\n",
    "\n",
    "import numpy as np\n",
    "med = np.array(med)\n",
    "source = np.array(source)\n",
    "source_is_part = np.array(source_is_part)\n",
    "sink = np.array(sink)\n",
    "sink_is_part = np.array(sink_is_part)\n"
   ]
  },
  {
   "cell_type": "code",
   "execution_count": 5,
   "id": "2f2fb188",
   "metadata": {},
   "outputs": [
    {
     "name": "stdout",
     "output_type": "stream",
     "text": [
      "Deleted\n",
      "Deleted\n",
      "Deleted\n",
      "Deleted\n",
      "Deleted\n",
      "Deleted\n",
      "Deleted\n"
     ]
    }
   ],
   "source": [
    "# remove xml version string. libomexmeta does not recognise this\n",
    "\n",
    "l=[]\n",
    "for model in model_name:\n",
    "    model_n = model+'.cellml'\n",
    "    model_n = model_n.replace(\" \", \"\")\n",
    "    model_new = model+'_new.cellml'\n",
    "    model_new = model_new.replace(\" \", \"\")\n",
    "    \n",
    "    l.append(model_new)\n",
    "   \n",
    "    try:\n",
    "        with open(model_n,'r') as fr:\n",
    "            lines = fr.readlines()\n",
    "\n",
    "            with open(model_new,'w') as fw:\n",
    "                for line in lines:\n",
    "                    if line.strip('\\n') != \"<?xml version='1.0' encoding='UTF-8'?>\":\n",
    "                        fw.write(line)\n",
    "        print('Deleted')\n",
    "    except:\n",
    "        print(\"String not found\")\n",
    "        \n",
    "        "
   ]
  },
  {
   "cell_type": "code",
   "execution_count": 6,
   "id": "549bf923",
   "metadata": {},
   "outputs": [
    {
     "name": "stdout",
     "output_type": "stream",
     "text": [
      "0      ICaL_new.cellml\n",
      "1      ICaT_new.cellml\n",
      "2       IKv_new.cellml\n",
      "3     INS_K_new.cellml\n",
      "4    INS_Na_new.cellml\n",
      "5       INa_new.cellml\n",
      "Name: l, dtype: object\n"
     ]
    }
   ],
   "source": [
    "df1 = pd.DataFrame(l,columns=['l'])\n",
    "\n",
    "m_new = df1['l']\n",
    "m_new = m_new.drop(index= 6)\n",
    "print(m_new)"
   ]
  },
  {
   "cell_type": "code",
   "execution_count": 7,
   "id": "dfcf937d",
   "metadata": {},
   "outputs": [],
   "source": [
    "# Add xmlns and cmeta:id needed for libomexmeta to\n",
    "# read each cellml file\n",
    "\n",
    "x=[]\n",
    "for cellml in m_new:\n",
    "    with open(cellml) as ft:\n",
    "        contents = ft.readlines()\n",
    "        res = ' '.join([str(item) for item in contents])\n",
    "        x.append(res.replace('xmlns:cellml=\"http://www.cellml.org/cellml/1.1#\"','xmlns:cmeta=\"http://www.cellml.org/metadata/1.0#\" cmeta:id=\"cellml\"'))\n",
    "    \n",
    "# print(x[1])"
   ]
  },
  {
   "cell_type": "code",
   "execution_count": 8,
   "id": "af4bc90d",
   "metadata": {},
   "outputs": [],
   "source": [
    "sauce = []\n",
    "synk = []\n",
    "for id in source_is_part:\n",
    "    if id == \"GO:0005615\":\n",
    "        sauce.append(\"extracellular\")\n",
    "        synk.append(\"cytosol\")\n",
    "    elif id == \"GO:0005829\":\n",
    "        sauce.append(\"cytosol\")\n",
    "        synk.append(\"extracellular\")"
   ]
  },
  {
   "cell_type": "code",
   "execution_count": 9,
   "id": "f8938068",
   "metadata": {},
   "outputs": [
    {
     "name": "stdout",
     "output_type": "stream",
     "text": [
      "['cytosol', 'cytosol', 'extracellular', 'extracellular', 'extracellular', 'cytosol']\n"
     ]
    }
   ],
   "source": [
    "print(synk)"
   ]
  },
  {
   "cell_type": "code",
   "execution_count": 10,
   "id": "2428d094",
   "metadata": {},
   "outputs": [],
   "source": [
    "sauce_df = pd.DataFrame(sauce, columns=['sauce'])\n",
    "sauce_new = sauce_df['sauce']\n",
    "\n",
    "synk_df = pd.DataFrame(synk, columns=['synk'])\n",
    "synk_new = synk_df['synk']"
   ]
  },
  {
   "cell_type": "code",
   "execution_count": 11,
   "id": "2e7ed6de",
   "metadata": {},
   "outputs": [
    {
     "name": "stdout",
     "output_type": "stream",
     "text": [
      "0          cytosol\n",
      "1          cytosol\n",
      "2    extracellular\n",
      "3    extracellular\n",
      "4    extracellular\n",
      "5          cytosol\n",
      "Name: synk, dtype: object\n"
     ]
    }
   ],
   "source": [
    "print(synk_new)"
   ]
  },
  {
   "cell_type": "code",
   "execution_count": 12,
   "id": "b8cdb4cd",
   "metadata": {},
   "outputs": [
    {
     "name": "stdout",
     "output_type": "stream",
     "text": [
      "['ICaL ' 'ICaT ' 'IKv' 'INS_K ' 'INS_Na ' 'INa']\n"
     ]
    }
   ],
   "source": [
    "model_name_new = model_name.drop(index = 7)\n",
    "model_name_new = np.array(model_name_new)\n",
    "print(model_name_new)"
   ]
  },
  {
   "cell_type": "code",
   "execution_count": 13,
   "id": "399803a4",
   "metadata": {},
   "outputs": [],
   "source": [
    "from pyomexmeta import RDF, eUriType\n",
    "\n",
    "for i in range(len(m_new)):\n",
    "    rdf_graph1 = RDF()\n",
    "    rdf_graph1.set_archive_uri(\"12L_annotations.omex\")\n",
    "    rdf_graph1.set_model_uri(m_new[i])\n",
    "    annot_editor = rdf_graph1.to_editor(x[i], generate_new_metaids=False, sbml_semantic_extraction=False)\n",
    "\n",
    "    # fma:14072 = smooth muscle cell\n",
    "    # fma:7207 = Jejunum\n",
    "    # fma:66836 = portion of cytosol\n",
    "\n",
    "    with annot_editor.new_physical_entity() as cytosol:\n",
    "        cytosol \\\n",
    "            .about(\"cytosol\", eUriType.LOCAL_URI) \\\n",
    "            .identity(\"GO:0005829\") \\\n",
    "            .is_part_of(\"FMA:14072\") \\\n",
    "            .is_part_of(\"FMA:7207\") \n",
    "\n",
    "    # fma:14072 = smooth muscle cell\n",
    "    # fma:7207 = Jejunum\n",
    "    # GO:0005615: extracellular space\n",
    "\n",
    "    with annot_editor.new_physical_entity() as extracellular:\n",
    "        extracellular \\\n",
    "            .about(\"extracellular\", eUriType.LOCAL_URI) \\\n",
    "            .identity(\"GO:0005615\") \\\n",
    "            .is_part_of(\"FMA:14072\") \\\n",
    "            .is_part_of(\"FMA:7207\") \n",
    "\n",
    "    # GO:1990454 = L-type voltage-gated calcium channel complex\n",
    "    # GO:0005245 = voltage-gated calcium channel protein\n",
    "    with annot_editor.new_physical_entity() as mediator:\n",
    "        mediator\\\n",
    "            .about(\"mediator\", eUriType.LOCAL_URI) \\\n",
    "            .identity(med[i]) \\\n",
    "            .is_part_of(\"cytosol\",eUriType.LOCAL_URI)\n",
    "\n",
    "    # CHEBI:39123 = Calcium cation\n",
    " \n",
    "    \n",
    "    with annot_editor.new_physical_entity() as source:\n",
    "        source \\\n",
    "            .about(\"source\", eUriType.LOCAL_URI) \\\n",
    "            .identity(\"CHEBI:39123\") \\\n",
    "            .is_part_of(sauce_new[i], eUriType.LOCAL_URI)\n",
    "\n",
    "# CHEBI:39123 = Calcium cation\n",
    "    with annot_editor.new_physical_entity() as sink:\n",
    "        sink \\\n",
    "            .about(\"sink\", eUriType.LOCAL_URI) \\\n",
    "            .identity(\"CHEBI:39123\") \\\n",
    "            .is_part_of(synk_new[i], eUriType.LOCAL_URI)\n",
    "\n",
    "    # opb:OPB_00592 = chemical molar flow rate\n",
    "\n",
    "    with annot_editor.new_physical_process() as reaction_rate:\n",
    "        reaction_rate \\\n",
    "            .about(\"process\", eUriType.LOCAL_URI) \\\n",
    "            .add_source(\"source\", eUriType.LOCAL_URI, multiplier=1) \\\n",
    "            .add_sink(\"sink\", eUriType.LOCAL_URI, multiplier=1) \\\n",
    "            .add_mediator(\"mediator\", eUriType.LOCAL_URI) \\\n",
    "            .has_property(property_about=model_name_new[i], about_uri_type=eUriType.MODEL_URI, is_version_of=\"opb:OPB_00592\")\n",
    "\n",
    "#     print(rdf_graph1)\n",
    "\n",
    "    print(rdf_graph1, file=open(model_name_new[i]+'.rdf', 'w'))"
   ]
  },
  {
   "cell_type": "code",
   "execution_count": null,
   "id": "821f381f",
   "metadata": {},
   "outputs": [],
   "source": []
  }
 ],
 "metadata": {
  "kernelspec": {
   "display_name": "Python 3 (ipykernel)",
   "language": "python",
   "name": "python3"
  },
  "language_info": {
   "codemirror_mode": {
    "name": "ipython",
    "version": 3
   },
   "file_extension": ".py",
   "mimetype": "text/x-python",
   "name": "python",
   "nbconvert_exporter": "python",
   "pygments_lexer": "ipython3",
   "version": "3.9.12"
  }
 },
 "nbformat": 4,
 "nbformat_minor": 5
}
